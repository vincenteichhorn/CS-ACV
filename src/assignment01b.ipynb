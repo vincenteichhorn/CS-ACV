{
 "cells": [
  {
   "cell_type": "markdown",
   "id": "38af5f74",
   "metadata": {},
   "source": [
    "# 11 Classes Classifier for Problematic Samples Detection - Assignment 01 (b)\n",
    "Used the curated dataset from Assignment 01a to train a classifier that can detect problematic samples. Applied the test set where not \"problematic\" labels are available."
   ]
  },
  {
   "cell_type": "code",
   "execution_count": 58,
   "id": "6ba8545c",
   "metadata": {},
   "outputs": [],
   "source": [
    "import os\n",
    "import random\n",
    "import fiftyone as fo\n",
    "import fiftyone.zoo as fozoo\n",
    "import fiftyone.brain as fobrain\n",
    "from fiftyone import ViewField as F\n",
    "import torch\n",
    "import torch.nn as nn\n",
    "import torch.nn.functional as fn\n",
    "from torch.optim import Adam\n",
    "from torch.utils.data import Dataset, DataLoader\n",
    "import numpy as np\n",
    "from PIL import Image\n",
    "import torchvision.transforms.v2 as transforms\n",
    "from tqdm import tqdm\n",
    "from matplotlib import pyplot as plt\n",
    "from pathlib import Path\n",
    "import pandas as pd\n"
   ]
  },
  {
   "cell_type": "code",
   "execution_count": 59,
   "id": "1dd610cd",
   "metadata": {},
   "outputs": [],
   "source": [
    "def set_seeds(seed=51):\n",
    "    os.environ['PYTHONHASHSEED'] = str(seed)\n",
    "    os.environ['CUBLAS_WORKSPACE_CONFIG'] = ':4096:8'\n",
    "\n",
    "    random.seed(seed)\n",
    "    np.random.seed(seed)\n",
    "    torch.manual_seed(seed)\n",
    "\n",
    "    if torch.cuda.is_available():\n",
    "        torch.cuda.manual_seed(seed)\n",
    "        torch.cuda.manual_seed_all(seed)\n",
    "        torch.backends.cudnn.deterministic = True\n",
    "        torch.backends.cudnn.benchmark = False"
   ]
  },
  {
   "cell_type": "code",
   "execution_count": 60,
   "id": "644d3256",
   "metadata": {},
   "outputs": [],
   "source": [
    "DEVICE = \"cuda\" if torch.cuda.is_available() else \"cpu\"\n",
    "SEED = 42\n",
    "BATCH_SIZE = 32\n",
    "LEARNING_RATE = 0.003\n",
    "EPOCHS = 10\n",
    "RELOAD_DATASETS = True\n",
    "VALIDATION_SPLIT_SIZE = 15 #%\n",
    "set_seeds(SEED)"
   ]
  },
  {
   "cell_type": "code",
   "execution_count": 61,
   "id": "8ba79cf6",
   "metadata": {},
   "outputs": [
    {
     "name": "stdout",
     "output_type": "stream",
     "text": [
      " 100% |█████████████| 60812/60812 [20.1s elapsed, 0s remaining, 2.6K samples/s]      \n"
     ]
    },
    {
     "name": "stderr",
     "output_type": "stream",
     "text": [
      "Generating train/validation split: 100%|██████████| 60812/60812 [00:42<00:00, 1424.62it/s]\n"
     ]
    },
    {
     "name": "stdout",
     "output_type": "stream",
     "text": [
      "Split 'test' already downloaded\n",
      "Loading 'mnist' split 'test'\n",
      " 100% |█████████████| 10000/10000 [4.1s elapsed, 0s remaining, 2.6K samples/s]      \n",
      "Dataset 'mnist-test' created\n"
     ]
    }
   ],
   "source": [
    "if RELOAD_DATASETS:\n",
    "    if \"curated-mnist\" in fo.list_datasets():\n",
    "        fo.delete_dataset(\"curated-mnist\")\n",
    "    if \"curated-mnist-train\" in fo.list_datasets():\n",
    "        fo.delete_dataset(\"curated-mnist-train\")\n",
    "    if \"curated-mnist-validation\" in fo.list_datasets():\n",
    "        fo.delete_dataset(\"curated-mnist-validation\")\n",
    "    if \"mnist-test\" in fo.list_datasets():\n",
    "        fo.delete_dataset(\"mnist-test\")\n",
    "\n",
    "if \"curated-mnist\" not in fo.list_datasets():\n",
    "    dataset_dir = \"../data/mnist-curated\"\n",
    "    curated_mnist_dataset = fo.Dataset.from_dir(\n",
    "        dataset_dir,\n",
    "        dataset_type=fo.types.ImageClassificationDirectoryTree,\n",
    "        name=\"curated-mnist\",\n",
    "    )\n",
    "    curated_mnist_dataset.persistent = True\n",
    "\n",
    "else:\n",
    "    curated_mnist_dataset = fo.load_dataset(\"curated-mnist\")\n",
    "\n",
    "if \"curated-mnist-train\" not in fo.list_datasets() or \"curated-mnist-validation\" not in fo.list_datasets():\n",
    "    for sample in tqdm(curated_mnist_dataset, desc=\"Generating train/validation split\"):\n",
    "        sample.tags = [\"train\"] if random.random() > VALIDATION_SPLIT_SIZE / 100 else [\"validation\"]\n",
    "        sample.save()\n",
    "    train_dataset = curated_mnist_dataset.match_tags(\"train\").clone(\"curated-mnist-train\")\n",
    "    train_dataset.persistent = True\n",
    "    validation_dataset = curated_mnist_dataset.match_tags(\"validation\").clone(\"curated-mnist-validation\")\n",
    "    validation_dataset.persistent = True\n",
    "else:\n",
    "    train_dataset = fo.load_dataset(\"curated-mnist-train\")\n",
    "    validation_dataset = fo.load_dataset(\"curated-mnist-validation\")\n",
    "\n",
    "if not \"mnist-test\" in fo.list_datasets():\n",
    "  test_dataset = fozoo.load_zoo_dataset(\"mnist\", split='test', dataset_name=\"mnist-test\", persistent=True)\n",
    "else:\n",
    "  test_dataset = fo.load_dataset(\"mnist-test\")"
   ]
  },
  {
   "cell_type": "code",
   "execution_count": 62,
   "id": "57fe42a3",
   "metadata": {},
   "outputs": [
    {
     "name": "stdout",
     "output_type": "stream",
     "text": [
      "60812\n",
      "51618\n",
      "9194\n",
      "10000\n",
      "Session launched. Run `session.show()` to open the App in a cell output.\n",
      "http://localhost:5152/\n"
     ]
    }
   ],
   "source": [
    "print(curated_mnist_dataset.count())\n",
    "print(train_dataset.count())\n",
    "print(validation_dataset.count())\n",
    "print(test_dataset.count())\n",
    "\n",
    "session = fo.launch_app(test_dataset, auto=False, port=5152)\n",
    "print(session.url)"
   ]
  },
  {
   "cell_type": "code",
   "execution_count": 63,
   "id": "8cbff807",
   "metadata": {},
   "outputs": [
    {
     "name": "stdout",
     "output_type": "stream",
     "text": [
      "Data Classes: {'0 - zero': 0, '1 - one': 1, '2 - two': 2, '3 - three': 3, '4 - four': 4, '5 - five': 5, '6 - six': 6, '7 - seven': 7, '8 - eight': 8, '9 - nine': 9, 'problematic 0 - zero': 10, 'problematic 1 - one': 10, 'problematic 2 - two': 10, 'problematic 3 - three': 10, 'problematic 4 - four': 10, 'problematic 5 - five': 10, 'problematic 6 - six': 10, 'problematic 7 - seven': 10, 'problematic 8 - eight': 10, 'problematic 9 - nine': 10}\n"
     ]
    }
   ],
   "source": [
    "data_classes = [str(el) for el in curated_mnist_dataset.distinct(\"ground_truth.label\")]\n",
    "label_map = {label: idx if not \"problematic\" in label else 10 for idx, label in enumerate(data_classes)}\n",
    "print(\"Data Classes:\", label_map)"
   ]
  },
  {
   "cell_type": "code",
   "execution_count": 64,
   "id": "a2cdcd4e",
   "metadata": {},
   "outputs": [],
   "source": [
    "class MNISTDataset(Dataset):\n",
    "  def __init__(self, fiftyone_dataset, image_transforms=None, label_map=None):\n",
    "    self.image_paths = fiftyone_dataset.values(\"filepath\")\n",
    "    self.str_labels = fiftyone_dataset.values(\"ground_truth.label\")\n",
    "    self.image_transforms = image_transforms or transforms.Compose([transforms.ToImage(), transforms.ToDtype(torch.float32, scale=True)])\n",
    "    self.dataset_classes = sorted(fiftyone_dataset.distinct(\"ground_truth.label\"))\n",
    "    self.label_map = label_map or {str_label: index for index, str_label in enumerate(self.dataset_classes)}\n",
    "\n",
    "  def __len__(self):\n",
    "    return len(self.image_paths)\n",
    "\n",
    "  def __getitem__(self, idx):\n",
    "    image = Image.open(self.image_paths[idx]).convert('L')\n",
    "    image = self.image_transforms(image) if self.image_transforms else image\n",
    "\n",
    "    label_str = self.str_labels[idx]\n",
    "    label_idx = self.label_map[label_str]\n",
    "    return image, torch.tensor(label_idx, dtype=torch.long)"
   ]
  },
  {
   "cell_type": "code",
   "execution_count": 65,
   "id": "88be2217",
   "metadata": {},
   "outputs": [],
   "source": [
    "class ModernLeNet5(nn.Module):\n",
    "\n",
    "    def __init__(self, num_classes=10):\n",
    "        super().__init__()\n",
    "\n",
    "        self.leNet5 = nn.Sequential(\n",
    "            nn.Conv2d(1, 6, kernel_size=5),\n",
    "            nn.ReLU(),\n",
    "            nn.MaxPool2d(kernel_size=2, stride=2),\n",
    "            nn.Conv2d(6, 16, kernel_size=5),\n",
    "            nn.ReLU(),\n",
    "            nn.MaxPool2d(kernel_size=2, stride=2),\n",
    "            nn.Conv2d(16, 120, kernel_size=4),\n",
    "            nn.ReLU(),\n",
    "            nn.Flatten(),\n",
    "            nn.Linear(120, 84),\n",
    "            nn.ReLU(),\n",
    "            nn.Dropout(0.5),\n",
    "            nn.Linear(84, num_classes)\n",
    "        )\n",
    "\n",
    "    def forward(self, x):\n",
    "        return self.leNet5(x)\n"
   ]
  },
  {
   "cell_type": "code",
   "execution_count": 66,
   "id": "8884feb4",
   "metadata": {},
   "outputs": [],
   "source": [
    "def train(model, optimizer, train_loader, criterion, idx=None):\n",
    "  batch_losses = []\n",
    "  model.train()\n",
    "  with tqdm(desc=\"Train\" + (f\"(Epoch {idx})\" if idx is not None else \"\"), leave=False, total=len(train_loader)) as pbar:\n",
    "    for batch in train_loader:\n",
    "      pbar.update(1)\n",
    "      optimizer.zero_grad()\n",
    "      images, labels = batch\n",
    "      images = images.to(DEVICE)\n",
    "      labels = labels.to(DEVICE)\n",
    "      outputs = model(images)\n",
    "      loss = criterion(outputs, labels)\n",
    "      batch_losses.append(loss.item())\n",
    "      loss.backward()\n",
    "      optimizer.step()\n",
    "    pbar.write(f\"Epoch {str(idx) + ' ' if idx is not None else ''} done\")\n",
    "    pbar.write(f\"Avg. Train Loss: {np.mean(batch_losses)}\")\n",
    "  return np.mean(batch_losses)\n",
    "\n",
    "def validate(model, val_loader, criterion, idx=None):\n",
    "  batch_losses = []\n",
    "  correct, total = 0, 0\n",
    "  model.eval()\n",
    "  with torch.no_grad(), tqdm(desc=\"Validation\" + (f\"(Epoch {idx})\" if idx is not None else \"\"), leave=False, total=len(val_loader)) as pbar:\n",
    "    for images, labels in val_loader:\n",
    "      pbar.update(1)\n",
    "      images = images.to(DEVICE)\n",
    "      labels = labels.to(DEVICE)\n",
    "      logits = model(images)\n",
    "      correct += (logits.argmax(dim=1) == labels).sum().item()\n",
    "      total += len(labels)\n",
    "      loss_value = criterion(logits, labels)\n",
    "      batch_losses.append(loss_value.item())\n",
    "    val_loss = np.mean(batch_losses)\n",
    "    pbar.write(f\"Avg. Validation Loss: {val_loss}\")\n",
    "    pbar.write(f\"Validation Accuracy: {correct / total}\")\n",
    "  return val_loss, correct / total\n",
    "\n",
    "def plot_losses(train_losses, validation_losses, show_fun = None):\n",
    "  plt.figure(figsize=(10, 5))\n",
    "  plt.plot(train_losses, label='Training Loss')\n",
    "  plt.plot(validation_losses, label='Validation Loss')\n",
    "  plt.xlabel('Epochs')\n",
    "  plt.ylabel('Loss')\n",
    "  plt.xticks(range(0, EPOCHS), range(1, EPOCHS + 1))\n",
    "  plt.legend()\n",
    "  plt.title('Training and Validation Loss')\n",
    "  best_epoch = np.argmin(validation_losses)\n",
    "  plt.axvline(x=best_epoch, color='red', linestyle='--', label=f'Best Val Loss Epoch {best_epoch}')\n",
    "  plt.legend()\n",
    "  if show_fun is not None:\n",
    "    show_fun(plt)\n",
    "  else:\n",
    "    plt.show()"
   ]
  },
  {
   "cell_type": "code",
   "execution_count": 67,
   "id": "0a3e6668",
   "metadata": {},
   "outputs": [],
   "source": [
    "train_loader = DataLoader(MNISTDataset(train_dataset, label_map=label_map), batch_size=BATCH_SIZE, shuffle=True)\n",
    "validation_loader = DataLoader(MNISTDataset(validation_dataset, label_map=label_map), batch_size=BATCH_SIZE, shuffle=False)\n",
    "model = ModernLeNet5(num_classes=11).to(DEVICE)\n",
    "optimizer = Adam(model.parameters(), lr=LEARNING_RATE)\n",
    "criterion = nn.CrossEntropyLoss()"
   ]
  },
  {
   "cell_type": "code",
   "execution_count": 68,
   "id": "f671c7f4",
   "metadata": {},
   "outputs": [
    {
     "name": "stderr",
     "output_type": "stream",
     "text": [
      "                                                                   \r"
     ]
    },
    {
     "name": "stdout",
     "output_type": "stream",
     "text": [
      "Epoch 1  done\n",
      "Avg. Train Loss: 0.2966801868174617\n"
     ]
    },
    {
     "name": "stderr",
     "output_type": "stream",
     "text": [
      "                                                                       \r"
     ]
    },
    {
     "name": "stdout",
     "output_type": "stream",
     "text": [
      "Avg. Validation Loss: 0.1475400210707297\n",
      "Validation Accuracy: 0.9581248640417663\n"
     ]
    },
    {
     "name": "stderr",
     "output_type": "stream",
     "text": [
      "                                                                   \r"
     ]
    },
    {
     "name": "stdout",
     "output_type": "stream",
     "text": [
      "Epoch 2  done\n",
      "Avg. Train Loss: 0.1327652030135707\n"
     ]
    },
    {
     "name": "stderr",
     "output_type": "stream",
     "text": [
      "                                                                       \r"
     ]
    },
    {
     "name": "stdout",
     "output_type": "stream",
     "text": [
      "Avg. Validation Loss: 0.1286667127570177\n",
      "Validation Accuracy: 0.9642157929084185\n"
     ]
    },
    {
     "name": "stderr",
     "output_type": "stream",
     "text": [
      "                                                                   \r"
     ]
    },
    {
     "name": "stdout",
     "output_type": "stream",
     "text": [
      "Epoch 3  done\n",
      "Avg. Train Loss: 0.1151466137368438\n"
     ]
    },
    {
     "name": "stderr",
     "output_type": "stream",
     "text": [
      "                                                                       \r"
     ]
    },
    {
     "name": "stdout",
     "output_type": "stream",
     "text": [
      "Avg. Validation Loss: 0.13516071346377126\n",
      "Validation Accuracy: 0.9635631933869915\n"
     ]
    },
    {
     "name": "stderr",
     "output_type": "stream",
     "text": [
      "                                                                   \r"
     ]
    },
    {
     "name": "stdout",
     "output_type": "stream",
     "text": [
      "Epoch 4  done\n",
      "Avg. Train Loss: 0.10593795970172733\n"
     ]
    },
    {
     "name": "stderr",
     "output_type": "stream",
     "text": [
      "                                                                       \r"
     ]
    },
    {
     "name": "stdout",
     "output_type": "stream",
     "text": [
      "Avg. Validation Loss: 0.11640318992272114\n",
      "Validation Accuracy: 0.9676963236893626\n"
     ]
    },
    {
     "name": "stderr",
     "output_type": "stream",
     "text": [
      "                                                                   \r"
     ]
    },
    {
     "name": "stdout",
     "output_type": "stream",
     "text": [
      "Epoch 5  done\n",
      "Avg. Train Loss: 0.09743510503283657\n"
     ]
    },
    {
     "name": "stderr",
     "output_type": "stream",
     "text": [
      "                                                                       \r"
     ]
    },
    {
     "name": "stdout",
     "output_type": "stream",
     "text": [
      "Avg. Validation Loss: 0.10496832798420049\n",
      "Validation Accuracy: 0.9708505547095932\n"
     ]
    },
    {
     "name": "stderr",
     "output_type": "stream",
     "text": [
      "                                                                   \r"
     ]
    },
    {
     "name": "stdout",
     "output_type": "stream",
     "text": [
      "Epoch 6  done\n",
      "Avg. Train Loss: 0.09471960395189667\n"
     ]
    },
    {
     "name": "stderr",
     "output_type": "stream",
     "text": [
      "                                                                       \r"
     ]
    },
    {
     "name": "stdout",
     "output_type": "stream",
     "text": [
      "Avg. Validation Loss: 0.11487868415579151\n",
      "Validation Accuracy: 0.9705242549488797\n"
     ]
    },
    {
     "name": "stderr",
     "output_type": "stream",
     "text": [
      "                                                                   \r"
     ]
    },
    {
     "name": "stdout",
     "output_type": "stream",
     "text": [
      "Epoch 7  done\n",
      "Avg. Train Loss: 0.09052779527583095\n"
     ]
    },
    {
     "name": "stderr",
     "output_type": "stream",
     "text": [
      "                                                                       \r"
     ]
    },
    {
     "name": "stdout",
     "output_type": "stream",
     "text": [
      "Avg. Validation Loss: 0.1291768945711485\n",
      "Validation Accuracy: 0.9667174244072221\n"
     ]
    },
    {
     "name": "stderr",
     "output_type": "stream",
     "text": [
      "                                                                   \r"
     ]
    },
    {
     "name": "stdout",
     "output_type": "stream",
     "text": [
      "Epoch 8  done\n",
      "Avg. Train Loss: 0.09607597761090804\n"
     ]
    },
    {
     "name": "stderr",
     "output_type": "stream",
     "text": [
      "                                                                       \r"
     ]
    },
    {
     "name": "stdout",
     "output_type": "stream",
     "text": [
      "Avg. Validation Loss: 0.11159330371694093\n",
      "Validation Accuracy: 0.9708505547095932\n"
     ]
    },
    {
     "name": "stderr",
     "output_type": "stream",
     "text": [
      "                                                                   \r"
     ]
    },
    {
     "name": "stdout",
     "output_type": "stream",
     "text": [
      "Epoch 9  done\n",
      "Avg. Train Loss: 0.08479455622342096\n"
     ]
    },
    {
     "name": "stderr",
     "output_type": "stream",
     "text": [
      "                                                                       \r"
     ]
    },
    {
     "name": "stdout",
     "output_type": "stream",
     "text": [
      "Avg. Validation Loss: 0.13365460502546334\n",
      "Validation Accuracy: 0.9690015227322166\n"
     ]
    },
    {
     "name": "stderr",
     "output_type": "stream",
     "text": [
      "                                                                    \r"
     ]
    },
    {
     "name": "stdout",
     "output_type": "stream",
     "text": [
      "Epoch 10  done\n",
      "Avg. Train Loss: 0.08417813458128387\n"
     ]
    },
    {
     "name": "stderr",
     "output_type": "stream",
     "text": [
      "                                                                        \r"
     ]
    },
    {
     "name": "stdout",
     "output_type": "stream",
     "text": [
      "Avg. Validation Loss: 0.1337168653065242\n",
      "Validation Accuracy: 0.9704154883619752\n"
     ]
    },
    {
     "data": {
      "image/png": "[encoded data removed]",
      "text/plain": [
       "<Figure size 1000x500 with 1 Axes>"
      ]
     },
     "metadata": {},
     "output_type": "display_data"
    }
   ],
   "source": [
    "train_losses = []\n",
    "validation_losses = []\n",
    "\n",
    "best_loss = None\n",
    "save_path = \"../out/assignment01b/\"\n",
    "os.makedirs(save_path, exist_ok=True)\n",
    "\n",
    "for epoch in range(1, EPOCHS + 1):\n",
    "    train_loss = train(model, optimizer, train_loader, criterion, idx=epoch)\n",
    "    val_loss, val_accuracy = validate(model, validation_loader, criterion, idx=epoch)\n",
    "    train_losses.append(train_loss)\n",
    "    validation_losses.append(val_loss)\n",
    "\n",
    "    if best_loss is None or val_loss < best_loss:\n",
    "        best_loss = val_loss\n",
    "        torch.save(model.state_dict(), os.path.join(save_path, \"model.pt\"))\n",
    "\n",
    "plot_losses(train_losses, validation_losses)"
   ]
  },
  {
   "cell_type": "code",
   "execution_count": 69,
   "id": "037ac2a5",
   "metadata": {},
   "outputs": [
    {
     "data": {
      "text/plain": [
       "ModernLeNet5(\n",
       "  (leNet5): Sequential(\n",
       "    (0): Conv2d(1, 6, kernel_size=(5, 5), stride=(1, 1))\n",
       "    (1): ReLU()\n",
       "    (2): MaxPool2d(kernel_size=2, stride=2, padding=0, dilation=1, ceil_mode=False)\n",
       "    (3): Conv2d(6, 16, kernel_size=(5, 5), stride=(1, 1))\n",
       "    (4): ReLU()\n",
       "    (5): MaxPool2d(kernel_size=2, stride=2, padding=0, dilation=1, ceil_mode=False)\n",
       "    (6): Conv2d(16, 120, kernel_size=(4, 4), stride=(1, 1))\n",
       "    (7): ReLU()\n",
       "    (8): Flatten(start_dim=1, end_dim=-1)\n",
       "    (9): Linear(in_features=120, out_features=84, bias=True)\n",
       "    (10): ReLU()\n",
       "    (11): Dropout(p=0.5, inplace=False)\n",
       "    (12): Linear(in_features=84, out_features=11, bias=True)\n",
       "  )\n",
       ")"
      ]
     },
     "execution_count": 69,
     "metadata": {},
     "output_type": "execute_result"
    }
   ],
   "source": [
    "model = ModernLeNet5(num_classes=11).to(DEVICE)\n",
    "model.load_state_dict(torch.load(os.path.join(save_path, \"model.pt\")))\n",
    "model.eval()"
   ]
  },
  {
   "cell_type": "code",
   "execution_count": 70,
   "id": "08760cf2",
   "metadata": {},
   "outputs": [
    {
     "name": "stderr",
     "output_type": "stream",
     "text": [
      "Testing: 100%|██████████| 313/313 [00:03<00:00, 97.75it/s] "
     ]
    },
    {
     "name": "stdout",
     "output_type": "stream",
     "text": [
      "Number of detected problematic samples in test set: 0.26% (26 samples)\n",
      "Number of correct classifications (w/o problematic label) in test set: 98.80%\n"
     ]
    },
    {
     "name": "stderr",
     "output_type": "stream",
     "text": [
      "\n"
     ]
    }
   ],
   "source": [
    "test_loader = DataLoader(MNISTDataset(test_dataset), batch_size=BATCH_SIZE, shuffle=False)\n",
    "\n",
    "no_detected_problematic = 0\n",
    "no_correct_classifications = 0\n",
    "problematic_bools = None\n",
    "problematic_gt = None\n",
    "\n",
    "with torch.no_grad():\n",
    "    for batch in tqdm(test_loader, desc=\"Testing\"):\n",
    "        images, labels = batch\n",
    "        images = images.to(DEVICE)\n",
    "        labels = labels.to(DEVICE)\n",
    "        outputs = model(images)\n",
    "        prediction_classes = outputs.argmax(dim=1)\n",
    "        no_detected_problematic += (prediction_classes == 10).sum().item()\n",
    "        if problematic_bools is None:\n",
    "            problematic_bools = (prediction_classes == 10).cpu()\n",
    "        else:\n",
    "            problematic_bools = torch.cat((problematic_bools, (prediction_classes == 10).cpu()), dim=0)\n",
    "        if problematic_gt is None:\n",
    "            problematic_gt = labels.cpu()\n",
    "        else:\n",
    "            problematic_gt = torch.cat((problematic_gt, labels.cpu()), dim=0)\n",
    "        no_correct_classifications += (prediction_classes == labels).sum().item()\n",
    "\n",
    "print(f\"Number of detected problematic samples in test set: {no_detected_problematic/test_dataset.count() * 100:.2f}% ({no_detected_problematic} samples)\")\n",
    "print(f\"Number of correct classifications (w/o problematic label) in test set: {no_correct_classifications/test_dataset.count() * 100:.2f}%\")"
   ]
  },
  {
   "cell_type": "markdown",
   "id": "b8168765",
   "metadata": {},
   "source": [
    "Note that this is not the test accuracy, as the 'problematic' class is included in the predictions but not in the ground truth labels. We could have defined a separate test set from the 60k curated dataset, but for simplicity we just use the original test set here. We expect that testing the model with a fully labeled test set including problematic samples would yield only minor insights, as the problematic samples are only a small fraction of the total dataset."
   ]
  },
  {
   "cell_type": "code",
   "execution_count": 71,
   "id": "0dad7692",
   "metadata": {},
   "outputs": [
    {
     "name": "stderr",
     "output_type": "stream",
     "text": [
      "Tagging problematic samples in test set:   0%|          | 0/10000 [00:00<?, ?it/s]"
     ]
    },
    {
     "name": "stderr",
     "output_type": "stream",
     "text": [
      "Tagging problematic samples in test set: 100%|██████████| 10000/10000 [00:01<00:00, 6104.54it/s]\n"
     ]
    }
   ],
   "source": [
    "for sample, is_problematic in tqdm(zip(test_dataset, problematic_bools), desc=\"Tagging problematic samples in test set\", total=test_dataset.count()):\n",
    "    if is_problematic:\n",
    "        sample.tags.append(\"problematic\")\n",
    "        sample.save()"
   ]
  },
  {
   "cell_type": "code",
   "execution_count": 72,
   "id": "ad3f9763",
   "metadata": {},
   "outputs": [],
   "source": [
    "problematic_view = test_dataset.match_tags(\"problematic\")\n",
    "session.view = problematic_view\n",
    "session.refresh()"
   ]
  },
  {
   "cell_type": "code",
   "execution_count": 73,
   "id": "de46509e",
   "metadata": {},
   "outputs": [
    {
     "data": {
      "image/png": "[encoded data removed]",
      "text/plain": [
       "<Figure size 1000x500 with 1 Axes>"
      ]
     },
     "metadata": {},
     "output_type": "display_data"
    }
   ],
   "source": [
    "def histogram(data, title=\"Histogram\", xlabel=\"Classes\", ylabel=\"Frequency\", xticks=None, xticks_labels=None, show_fun=None):\n",
    "    plt.figure(figsize=(10, 5))\n",
    "    plt.hist(data, bins=np.arange(-0.5, len(xticks_labels) + 0.5, 1), align='mid', rwidth=0.8)\n",
    "    if xticks is not None:\n",
    "        plt.xticks(xticks, xticks_labels)\n",
    "    plt.xlabel(xlabel)\n",
    "    plt.ylabel(ylabel)\n",
    "    plt.title(title)\n",
    "    if show_fun is not None:\n",
    "        show_fun(plt)\n",
    "    else:\n",
    "        plt.show()\n",
    "\n",
    "histogram(problematic_gt[problematic_bools].numpy(), title=\"Histogram of Ground Truth Labels for Detected Problematic Samples\", xlabel=\"Ground Truth Classes\", ylabel=\"Frequency\", xticks=list(range(10)), xticks_labels=[str(i) for i in range(10)])"
   ]
  }
 ],
 "metadata": {
  "kernelspec": {
   "display_name": "acv-_NshFyup-py3.12",
   "language": "python",
   "name": "python3"
  },
  "language_info": {
   "codemirror_mode": {
    "name": "ipython",
    "version": 3
   },
   "file_extension": ".py",
   "mimetype": "text/x-python",
   "name": "python",
   "nbconvert_exporter": "python",
   "pygments_lexer": "ipython3",
   "version": "3.12.3"
  }
 },
 "nbformat": 4,
 "nbformat_minor": 5
}
