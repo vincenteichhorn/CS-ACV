{
 "cells": [
  {
   "cell_type": "markdown",
   "metadata": {},
   "source": [
    "# Data Curation for MNIST Dataset - Assignment 1 (a)"
   ]
  },
  {
   "cell_type": "code",
   "execution_count": 1,
   "metadata": {
    "collapsed": true,
    "id": "RQxbOw_b6iiQ"
   },
   "outputs": [
    {
     "name": "stderr",
     "output_type": "stream",
     "text": [
      "/home/vincent/.cache/pypoetry/virtualenvs/acv-_NshFyup-py3.12/lib/python3.12/site-packages/tqdm/auto.py:21: TqdmWarning: IProgress not found. Please update jupyter and ipywidgets. See https://ipywidgets.readthedocs.io/en/stable/user_install.html\n",
      "  from .autonotebook import tqdm as notebook_tqdm\n"
     ]
    }
   ],
   "source": [
    "import os\n",
    "import random\n",
    "import fiftyone as fo\n",
    "import fiftyone.zoo as fozoo\n",
    "import fiftyone.brain as fobrain\n",
    "from fiftyone import ViewField as F\n",
    "import torch\n",
    "import torch.nn as nn\n",
    "import torch.nn.functional as fn\n",
    "from torch.optim import Adam\n",
    "from torch.utils.data import Dataset, DataLoader\n",
    "import numpy as np\n",
    "from PIL import Image\n",
    "import torchvision.transforms.v2 as transforms\n",
    "from tqdm import tqdm\n",
    "from matplotlib import pyplot as plt\n",
    "from pathlib import Path\n",
    "import pandas as pd\n"
   ]
  },
  {
   "cell_type": "code",
   "execution_count": 2,
   "metadata": {
    "id": "AYWyHYXH9qTV"
   },
   "outputs": [],
   "source": [
    "def set_seeds(seed=51):\n",
    "    os.environ['PYTHONHASHSEED'] = str(seed)\n",
    "    os.environ['CUBLAS_WORKSPACE_CONFIG'] = ':4096:8'\n",
    "\n",
    "    random.seed(seed)\n",
    "    np.random.seed(seed)\n",
    "    torch.manual_seed(seed)\n",
    "\n",
    "    if torch.cuda.is_available():\n",
    "        torch.cuda.manual_seed(seed)\n",
    "        torch.cuda.manual_seed_all(seed)\n",
    "        torch.backends.cudnn.deterministic = True\n",
    "        torch.backends.cudnn.benchmark = False\n"
   ]
  },
  {
   "cell_type": "code",
   "execution_count": 3,
   "metadata": {
    "id": "vLpvHAUj66KK"
   },
   "outputs": [],
   "source": [
    "DEVICE = \"cuda\" if torch.cuda.is_available() else \"cpu\"\n",
    "SEED = 42\n",
    "BATCH_SIZE = 32\n",
    "LEARNING_RATE = 0.003\n",
    "EPOCHS = 10\n",
    "RELOAD_DATASETS = True\n",
    "VALIDATION_SPLIT_SIZE = 15 #%\n",
    "set_seeds(SEED)"
   ]
  },
  {
   "cell_type": "code",
   "execution_count": 4,
   "metadata": {
    "id": "5CYw7zFm8ITU"
   },
   "outputs": [],
   "source": [
    "class ModernLeNet5(nn.Module):\n",
    "\n",
    "    def __init__(self, num_classes=10):\n",
    "        super().__init__()\n",
    "\n",
    "        self.leNet5 = nn.Sequential(\n",
    "            nn.Conv2d(1, 6, kernel_size=5),\n",
    "            nn.ReLU(),\n",
    "            nn.MaxPool2d(kernel_size=2, stride=2),\n",
    "            nn.Conv2d(6, 16, kernel_size=5),\n",
    "            nn.ReLU(),\n",
    "            nn.MaxPool2d(kernel_size=2, stride=2),\n",
    "            nn.Conv2d(16, 120, kernel_size=4),\n",
    "            nn.ReLU(),\n",
    "            nn.Flatten(),\n",
    "            nn.Linear(120, 84),\n",
    "            nn.ReLU(),\n",
    "            nn.Dropout(0.5),\n",
    "            nn.Linear(84, num_classes)\n",
    "        )\n",
    "\n",
    "    def slice_embedding_model(self, remove_n=3):\n",
    "      return nn.Sequential(*list(self.leNet5.children())[:-remove_n])\n",
    "\n",
    "    def forward(self, x):\n",
    "        return self.leNet5(x)\n"
   ]
  },
  {
   "cell_type": "code",
   "execution_count": 5,
   "metadata": {},
   "outputs": [
    {
     "name": "stdout",
     "output_type": "stream",
     "text": [
      "Deleting dataset: mnist-train-val\n"
     ]
    }
   ],
   "source": [
    "if RELOAD_DATASETS:\n",
    "  for ds in fo.list_datasets():\n",
    "    print(f\"Deleting dataset: {ds}\")\n",
    "    fo.delete_dataset(ds)"
   ]
  },
  {
   "cell_type": "code",
   "execution_count": 6,
   "metadata": {
    "colab": {
     "base_uri": "https://localhost:8080/"
    },
    "id": "UqQsz0LF-R5R",
    "outputId": "513eaa0b-fb84-408d-f012-c0d5c8294b9f"
   },
   "outputs": [
    {
     "name": "stdout",
     "output_type": "stream",
     "text": [
      "Split 'train' already downloaded\n",
      "Loading 'mnist' split 'train'\n",
      " 100% |█████████████| 60000/60000 [23.1s elapsed, 0s remaining, 2.6K samples/s]      \n",
      "Dataset 'mnist-train-val' created\n",
      "Computing metadata...\n",
      " 100% |█████████████| 60000/60000 [13.2s elapsed, 0s remaining, 4.2K samples/s]      \n"
     ]
    },
    {
     "name": "stderr",
     "output_type": "stream",
     "text": [
      "Generate Splits: 100%|██████████| 60000/60000 [00:43<00:00, 1393.28it/s]\n"
     ]
    },
    {
     "name": "stdout",
     "output_type": "stream",
     "text": [
      "Split 'test' already downloaded\n",
      "Loading 'mnist' split 'test'\n",
      " 100% |█████████████| 10000/10000 [4.7s elapsed, 0s remaining, 2.4K samples/s]      \n",
      "Dataset 'mnist-test' created\n"
     ]
    }
   ],
   "source": [
    "if not \"mnist-train-val\" in fo.list_datasets():\n",
    "  train_val_dataset = fozoo.load_zoo_dataset(\"mnist\", split='train', dataset_name=\"mnist-train-val\", persistent=True)\n",
    "  train_val_dataset.compute_metadata()\n",
    "  train_val_dataset.untag_samples([\"train\", \"validation\"])\n",
    "else:\n",
    "  train_val_dataset = fo.load_dataset(\"mnist-train-val\")\n",
    "\n",
    "if not \"mnist-train\" in fo.list_datasets() or not \"mnist-val\" in fo.list_datasets():\n",
    "  for sample in tqdm(train_val_dataset, desc=\"Generate Splits\"):\n",
    "    sample.tags = [\"train\"] if random.random() > VALIDATION_SPLIT_SIZE / 100 else [\"validation\"]\n",
    "    sample.save()\n",
    "  train_dataset = train_val_dataset.match_tags(\"train\").clone()\n",
    "  train_dataset.name = \"mnist-train\"\n",
    "  train_dataset.persistent = True\n",
    "  val_dataset = train_val_dataset.match_tags(\"validation\").clone()\n",
    "  val_dataset.name = \"mnist-val\"\n",
    "  val_dataset.persistent = True\n",
    "else:\n",
    "  train_dataset = fo.load_dataset(\"mnist-train\")\n",
    "  val_dataset = fo.load_dataset(\"mnist-val\")\n",
    "\n",
    "if not \"mnist-test\" in fo.list_datasets():\n",
    "  test_dataset = fozoo.load_zoo_dataset(\"mnist\", split='test', dataset_name=\"mnist-test\", persistent=True)\n",
    "else:\n",
    "  test_dataset = fo.load_dataset(\"mnist-test\")"
   ]
  },
  {
   "cell_type": "code",
   "execution_count": 7,
   "metadata": {},
   "outputs": [
    {
     "name": "stdout",
     "output_type": "stream",
     "text": [
      "['mnist-test', 'mnist-train', 'mnist-train-val', 'mnist-val']\n",
      "Session launched. Run `session.show()` to open the App in a cell output.\n",
      "http://localhost:5151/\n"
     ]
    }
   ],
   "source": [
    "print(fo.list_datasets())\n",
    "session = fo.launch_app(train_dataset, auto=False)\n",
    "print(session.url)"
   ]
  },
  {
   "cell_type": "code",
   "execution_count": 8,
   "metadata": {
    "id": "BZFx8wmH_c4K"
   },
   "outputs": [],
   "source": [
    "class MNISTDataset(Dataset):\n",
    "  def __init__(self, fiftyone_dataset, image_transforms=None, label_map=None):\n",
    "    self.image_paths = fiftyone_dataset.values(\"filepath\")\n",
    "    self.str_labels = fiftyone_dataset.values(\"ground_truth.label\")\n",
    "    self.image_transforms = image_transforms or transforms.Compose([transforms.ToImage(), transforms.ToDtype(torch.float32, scale=True)])\n",
    "    self.dataset_classes = sorted(fiftyone_dataset.distinct(\"ground_truth.label\"))\n",
    "    self.label_map = label_map or {str_label: index for index, str_label in enumerate(self.dataset_classes)}\n",
    "\n",
    "  def __len__(self):\n",
    "    return len(self.image_paths)\n",
    "\n",
    "  def __getitem__(self, idx):\n",
    "    image = Image.open(self.image_paths[idx]).convert('L')\n",
    "    image = self.image_transforms(image) if self.image_transforms else image\n",
    "\n",
    "    label_str = self.str_labels[idx]\n",
    "    label_idx = self.label_map[label_str]\n",
    "    return image, torch.tensor(label_idx, dtype=torch.long)"
   ]
  },
  {
   "cell_type": "code",
   "execution_count": 9,
   "metadata": {
    "id": "sx8EaY3qA6WD"
   },
   "outputs": [],
   "source": [
    "generator = torch.Generator()\n",
    "generator.manual_seed(SEED)\n",
    "train_val_dataset_torch = MNISTDataset(train_val_dataset)\n",
    "train_val_loader = DataLoader(train_val_dataset_torch, batch_size=BATCH_SIZE, shuffle=False)\n",
    "train_loader = DataLoader(MNISTDataset(train_dataset), batch_size=BATCH_SIZE, shuffle=True, generator=generator)\n",
    "val_loader = DataLoader(MNISTDataset(val_dataset), batch_size=BATCH_SIZE, shuffle=False)"
   ]
  },
  {
   "cell_type": "code",
   "execution_count": 10,
   "metadata": {
    "id": "eLI7RDUuNPrK"
   },
   "outputs": [],
   "source": [
    "def train(model, optimizer, train_loader, criterion, idx=None):\n",
    "  batch_losses = []\n",
    "  model.train()\n",
    "  with tqdm(desc=\"Train\" + (f\"(Epoch {idx})\" if idx is not None else \"\"), leave=False, total=len(train_loader)) as pbar:\n",
    "    for batch in train_loader:\n",
    "      pbar.update(1)\n",
    "      optimizer.zero_grad()\n",
    "      images, labels = batch\n",
    "      images = images.to(DEVICE)\n",
    "      labels = labels.to(DEVICE)\n",
    "      outputs = model(images)\n",
    "      loss = criterion(outputs, labels)\n",
    "      batch_losses.append(loss.item())\n",
    "      loss.backward()\n",
    "      optimizer.step()\n",
    "    pbar.write(f\"Epoch {str(idx) + ' ' if idx is not None else ''} done\")\n",
    "    pbar.write(f\"Avg. Train Loss: {np.mean(batch_losses)}\")\n",
    "  return np.mean(batch_losses)\n",
    "\n",
    "def validate(model, val_loader, criterion, idx=None):\n",
    "  batch_losses = []\n",
    "  correct, total = 0, 0\n",
    "  model.eval()\n",
    "  with torch.no_grad(), tqdm(desc=\"Validation\" + (f\"(Epoch {idx})\" if idx is not None else \"\"), leave=False, total=len(val_loader)) as pbar:\n",
    "    for images, labels in val_loader:\n",
    "      pbar.update(1)\n",
    "      images = images.to(DEVICE)\n",
    "      labels = labels.to(DEVICE)\n",
    "      logits = model(images)\n",
    "      correct += (logits.argmax(dim=1) == labels).sum().item()\n",
    "      total += len(labels)\n",
    "      loss_value = criterion(logits, labels)\n",
    "      batch_losses.append(loss_value.item())\n",
    "    val_loss = np.mean(batch_losses)\n",
    "    pbar.write(f\"Avg. Validation Loss: {val_loss}\")\n",
    "    pbar.write(f\"Validation Accuracy: {correct / total}\")\n",
    "  return val_loss, correct / total\n",
    "\n",
    "def plot_losses(train_losses, validation_losses, show_fun = None):\n",
    "  plt.figure(figsize=(10, 5))\n",
    "  plt.plot(train_losses, label='Training Loss')\n",
    "  plt.plot(validation_losses, label='Validation Loss')\n",
    "  plt.xlabel('Epochs')\n",
    "  plt.ylabel('Loss')\n",
    "  plt.xticks(range(0, EPOCHS), range(1, EPOCHS + 1))\n",
    "  plt.legend()\n",
    "  plt.title('Training and Validation Loss')\n",
    "  best_epoch = np.argmin(validation_losses)\n",
    "  plt.axvline(x=best_epoch, color='red', linestyle='--', label=f'Best Val Loss Epoch {best_epoch}')\n",
    "  plt.legend()\n",
    "  if show_fun is not None:\n",
    "    show_fun(plt)\n",
    "  else:\n",
    "    plt.show()"
   ]
  },
  {
   "cell_type": "code",
   "execution_count": null,
   "metadata": {
    "colab": {
     "base_uri": "https://localhost:8080/",
     "height": 834
    },
    "id": "tbOao3fRNAVc",
    "outputId": "ac6857e6-e987-45f7-d97b-b04c3eb875ee"
   },
   "outputs": [
    {
     "name": "stderr",
     "output_type": "stream",
     "text": [
      "                                                                   \r"
     ]
    },
    {
     "name": "stdout",
     "output_type": "stream",
     "text": [
      "Epoch 1  done\n",
      "Avg. Train Loss: 0.24088735688691207\n"
     ]
    },
    {
     "name": "stderr",
     "output_type": "stream",
     "text": [
      "                                                                       \r"
     ]
    },
    {
     "name": "stdout",
     "output_type": "stream",
     "text": [
      "Avg. Validation Loss: 0.09467917324905038\n",
      "Validation Accuracy: 0.9730146491904395\n"
     ]
    },
    {
     "name": "stderr",
     "output_type": "stream",
     "text": [
      "                                                                   \r"
     ]
    },
    {
     "name": "stdout",
     "output_type": "stream",
     "text": [
      "Epoch 2  done\n",
      "Avg. Train Loss: 0.09113259707211097\n"
     ]
    },
    {
     "name": "stderr",
     "output_type": "stream",
     "text": [
      "                                                                       \r"
     ]
    },
    {
     "name": "stdout",
     "output_type": "stream",
     "text": [
      "Avg. Validation Loss: 0.07104871259808776\n",
      "Validation Accuracy: 0.9796233065315564\n"
     ]
    },
    {
     "name": "stderr",
     "output_type": "stream",
     "text": [
      "                                                                   \r"
     ]
    },
    {
     "name": "stdout",
     "output_type": "stream",
     "text": [
      "Epoch 3  done\n",
      "Avg. Train Loss: 0.07216347924517706\n"
     ]
    },
    {
     "name": "stderr",
     "output_type": "stream",
     "text": [
      "                                                                       \r"
     ]
    },
    {
     "name": "stdout",
     "output_type": "stream",
     "text": [
      "Avg. Validation Loss: 0.0621072795771064\n",
      "Validation Accuracy: 0.9820464808899658\n"
     ]
    },
    {
     "name": "stderr",
     "output_type": "stream",
     "text": [
      "                                                                   \r"
     ]
    },
    {
     "name": "stdout",
     "output_type": "stream",
     "text": [
      "Epoch 4  done\n",
      "Avg. Train Loss: 0.06343989562389364\n"
     ]
    },
    {
     "name": "stderr",
     "output_type": "stream",
     "text": [
      "                                                                       \r"
     ]
    },
    {
     "name": "stdout",
     "output_type": "stream",
     "text": [
      "Avg. Validation Loss: 0.06601386717052408\n",
      "Validation Accuracy: 0.9818261923119286\n"
     ]
    },
    {
     "name": "stderr",
     "output_type": "stream",
     "text": [
      "                                                                   \r"
     ]
    },
    {
     "name": "stdout",
     "output_type": "stream",
     "text": [
      "Epoch 5  done\n",
      "Avg. Train Loss: 0.05357459898839775\n"
     ]
    },
    {
     "name": "stderr",
     "output_type": "stream",
     "text": [
      "                                                                       \r"
     ]
    },
    {
     "name": "stdout",
     "output_type": "stream",
     "text": [
      "Avg. Validation Loss: 0.05953865135686107\n",
      "Validation Accuracy: 0.9845797995373939\n"
     ]
    },
    {
     "name": "stderr",
     "output_type": "stream",
     "text": [
      "                                                                   \r"
     ]
    },
    {
     "name": "stdout",
     "output_type": "stream",
     "text": [
      "Epoch 6  done\n",
      "Avg. Train Loss: 0.05391081342529406\n"
     ]
    },
    {
     "name": "stderr",
     "output_type": "stream",
     "text": [
      "                                                                       \r"
     ]
    },
    {
     "name": "stdout",
     "output_type": "stream",
     "text": [
      "Avg. Validation Loss: 0.06423650008740747\n",
      "Validation Accuracy: 0.9845797995373939\n"
     ]
    },
    {
     "name": "stderr",
     "output_type": "stream",
     "text": [
      "                                                                   \r"
     ]
    },
    {
     "name": "stdout",
     "output_type": "stream",
     "text": [
      "Epoch 7  done\n",
      "Avg. Train Loss: 0.050471231723847154\n"
     ]
    },
    {
     "name": "stderr",
     "output_type": "stream",
     "text": [
      "                                                                       \r"
     ]
    },
    {
     "name": "stdout",
     "output_type": "stream",
     "text": [
      "Avg. Validation Loss: 0.0792483557393549\n",
      "Validation Accuracy: 0.9821566251789845\n"
     ]
    },
    {
     "name": "stderr",
     "output_type": "stream",
     "text": [
      "                                                                   \r"
     ]
    },
    {
     "name": "stdout",
     "output_type": "stream",
     "text": [
      "Epoch 8  done\n",
      "Avg. Train Loss: 0.042372415194285896\n"
     ]
    },
    {
     "name": "stderr",
     "output_type": "stream",
     "text": [
      "                                                                       \r"
     ]
    },
    {
     "name": "stdout",
     "output_type": "stream",
     "text": [
      "Avg. Validation Loss: 0.0657910205779784\n",
      "Validation Accuracy: 0.9852406652715057\n"
     ]
    },
    {
     "name": "stderr",
     "output_type": "stream",
     "text": [
      "                                                                   \r"
     ]
    },
    {
     "name": "stdout",
     "output_type": "stream",
     "text": [
      "Epoch 9  done\n",
      "Avg. Train Loss: 0.04452122624075154\n"
     ]
    },
    {
     "name": "stderr",
     "output_type": "stream",
     "text": [
      "                                                                       \r"
     ]
    },
    {
     "name": "stdout",
     "output_type": "stream",
     "text": [
      "Avg. Validation Loss: 0.07763573479106221\n",
      "Validation Accuracy: 0.9824870580460403\n"
     ]
    },
    {
     "name": "stderr",
     "output_type": "stream",
     "text": [
      "                                                                    \r"
     ]
    },
    {
     "name": "stdout",
     "output_type": "stream",
     "text": [
      "Epoch 10  done\n",
      "Avg. Train Loss: 0.040692217208503335\n"
     ]
    },
    {
     "name": "stderr",
     "output_type": "stream",
     "text": [
      "                                                                        \r"
     ]
    },
    {
     "name": "stdout",
     "output_type": "stream",
     "text": [
      "Avg. Validation Loss: 0.071261978492181\n",
      "Validation Accuracy: 0.9843595109593568\n"
     ]
    },
    {
     "data": {
      "image/png": "[encoded data removed]",
      "text/plain": [
       "<Figure size 1000x500 with 1 Axes>"
      ]
     },
     "metadata": {},
     "output_type": "display_data"
    }
   ],
   "source": [
    "model = ModernLeNet5().to(DEVICE)\n",
    "optimizer = Adam(model.parameters(), lr=LEARNING_RATE)\n",
    "criterion = nn.CrossEntropyLoss()\n",
    "\n",
    "best_loss = None\n",
    "save_path = \"../out/assignment01a\"\n",
    "os.makedirs(save_path, exist_ok=True)\n",
    "\n",
    "train_losses, validation_losses = [], []\n",
    "\n",
    "for epoch in range(EPOCHS):\n",
    "  train_loss = train(model, optimizer, train_loader, criterion, epoch+1)\n",
    "  val_loss, val_acc = validate(model, val_loader, criterion, epoch+1)\n",
    "  train_losses.append(train_loss)\n",
    "  validation_losses.append(val_loss)\n",
    "\n",
    "  if best_loss is None or val_loss < best_loss:\n",
    "    best_loss = val_loss\n",
    "    torch.save(model.state_dict(), os.path.join(save_path, \"model.pt\"))\n",
    "\n",
    "plot_losses(train_losses, validation_losses)\n"
   ]
  },
  {
   "cell_type": "code",
   "execution_count": null,
   "metadata": {},
   "outputs": [
    {
     "data": {
      "text/plain": [
       "Sequential(\n",
       "  (0): Conv2d(1, 6, kernel_size=(5, 5), stride=(1, 1))\n",
       "  (1): ReLU()\n",
       "  (2): MaxPool2d(kernel_size=2, stride=2, padding=0, dilation=1, ceil_mode=False)\n",
       "  (3): Conv2d(6, 16, kernel_size=(5, 5), stride=(1, 1))\n",
       "  (4): ReLU()\n",
       "  (5): MaxPool2d(kernel_size=2, stride=2, padding=0, dilation=1, ceil_mode=False)\n",
       "  (6): Conv2d(16, 120, kernel_size=(4, 4), stride=(1, 1))\n",
       "  (7): ReLU()\n",
       "  (8): Flatten(start_dim=1, end_dim=-1)\n",
       "  (9): Linear(in_features=120, out_features=84, bias=True)\n",
       ")"
      ]
     },
     "execution_count": 12,
     "metadata": {},
     "output_type": "execute_result"
    }
   ],
   "source": [
    "model = ModernLeNet5()\n",
    "model.load_state_dict(torch.load(os.path.join(save_path, \"model.pt\")))\n",
    "embedding_model = model.slice_embedding_model(3).to(DEVICE)\n",
    "model.eval()\n",
    "embedding_model.eval()"
   ]
  },
  {
   "cell_type": "code",
   "execution_count": 13,
   "metadata": {},
   "outputs": [
    {
     "name": "stderr",
     "output_type": "stream",
     "text": [
      "Generate Predictions joint Train-Val Set: 100%|██████████| 1875/1875 [00:19<00:00, 97.79it/s] "
     ]
    },
    {
     "name": "stdout",
     "output_type": "stream",
     "text": [
      "(60000,)\n",
      "(60000,)\n",
      "(60000, 10)\n"
     ]
    },
    {
     "name": "stderr",
     "output_type": "stream",
     "text": [
      "\n"
     ]
    }
   ],
   "source": [
    "predictions = None\n",
    "confidences = None\n",
    "logits = None\n",
    "for batch in tqdm(train_val_loader, desc=\"Generate Predictions joint Train-Val Set\"):\n",
    "    images, labels = batch\n",
    "    images = images.to(DEVICE)\n",
    "    outputs = model(images)\n",
    "    logits_softmax = fn.softmax(outputs, dim=1)\n",
    "    preds = outputs.argmax(dim=1)\n",
    "    \n",
    "    if predictions is None:\n",
    "        predictions = preds.detach().cpu().numpy()\n",
    "    else:\n",
    "        predictions = np.concatenate((predictions, preds.detach().cpu().numpy()), axis=0)\n",
    "\n",
    "    if confidences is None:\n",
    "        confidences = logits_softmax[torch.arange(len(preds)), preds].detach().cpu().numpy()\n",
    "    else:\n",
    "        confidences = np.concatenate((confidences, logits_softmax[torch.arange(len(preds)), preds].detach().cpu().numpy()), axis=0)\n",
    "\n",
    "    if logits is None:\n",
    "        logits = outputs.detach().cpu().numpy()\n",
    "    else:\n",
    "        logits = np.concatenate((logits, outputs.detach().cpu().numpy()), axis=0)\n",
    "\n",
    "print(predictions.shape)\n",
    "print(confidences.shape)\n",
    "print(logits.shape)"
   ]
  },
  {
   "cell_type": "code",
   "execution_count": 14,
   "metadata": {
    "colab": {
     "base_uri": "https://localhost:8080/"
    },
    "id": "P8N15yVu0O_K",
    "outputId": "ab9c3877-5669-4ef4-e89b-5961e6fe99a4"
   },
   "outputs": [
    {
     "name": "stderr",
     "output_type": "stream",
     "text": [
      "Generate Train Embeddings: 100%|██████████| 1875/1875 [00:20<00:00, 90.58it/s] "
     ]
    },
    {
     "name": "stdout",
     "output_type": "stream",
     "text": [
      "(60000, 84)\n"
     ]
    },
    {
     "name": "stderr",
     "output_type": "stream",
     "text": [
      "\n"
     ]
    }
   ],
   "source": [
    "train_embeddings = None\n",
    "\n",
    "for batch in tqdm(train_val_loader, desc=\"Generate Train Embeddings\"):\n",
    "  images, labels = batch\n",
    "  images = images.to(DEVICE)\n",
    "  embeddings = embedding_model(images)\n",
    "  if train_embeddings is None:\n",
    "    train_embeddings = embeddings.detach().cpu().numpy()\n",
    "  else:\n",
    "    train_embeddings = np.concatenate((train_embeddings, embeddings.detach().cpu().numpy()), axis=0)\n",
    "print(train_embeddings.shape)\n"
   ]
  },
  {
   "cell_type": "code",
   "execution_count": 15,
   "metadata": {
    "colab": {
     "base_uri": "https://localhost:8080/"
    },
    "id": "CwCXylgR6mcv",
    "outputId": "53ec9304-ad2e-4d7d-b1d5-5d024731b450"
   },
   "outputs": [
    {
     "name": "stderr",
     "output_type": "stream",
     "text": [
      "100%|██████████| 60000/60000 [01:16<00:00, 783.69it/s]\n"
     ]
    }
   ],
   "source": [
    "for sample, embedding, prediction, confidence, logits in tqdm(zip(train_val_dataset, train_embeddings, predictions, confidences, logits), total=train_val_dataset.count()):\n",
    "  sample[\"embedding\"] = embedding\n",
    "  sample[\"lenet\"] = fo.Classification(\n",
    "    label=train_val_dataset_torch.dataset_classes[prediction],\n",
    "    confidence=confidence,\n",
    "    logits=logits\n",
    "  )\n",
    "  sample.save()\n",
    "train_val_dataset.save()\n",
    "session.refresh()"
   ]
  },
  {
   "cell_type": "code",
   "execution_count": 16,
   "metadata": {},
   "outputs": [],
   "source": [
    "wrong_view = train_val_dataset.match(F(\"ground_truth.label\") != F(\"lenet.label\"))\n",
    "session.view = wrong_view\n",
    "session.refresh()"
   ]
  },
  {
   "cell_type": "code",
   "execution_count": 17,
   "metadata": {},
   "outputs": [
    {
     "name": "stdout",
     "output_type": "stream",
     "text": [
      "Generating visualization...\n",
      "Generating visualization...\n",
      "UMAP( verbose=True)\n",
      "Wed Oct 22 20:43:54 2025 Construct fuzzy simplicial set\n",
      "Wed Oct 22 20:43:54 2025 Finding Nearest Neighbors\n",
      "Wed Oct 22 20:43:54 2025 Building RP forest with 17 trees\n",
      "Wed Oct 22 20:44:01 2025 NN descent for 16 iterations\n",
      "\t 1  /  16\n",
      "\t 2  /  16\n",
      "\t 3  /  16\n",
      "\tStopping threshold met -- exiting after 3 iterations\n",
      "Wed Oct 22 20:44:12 2025 Finished Nearest Neighbor Search\n",
      "Wed Oct 22 20:44:14 2025 Construct embedding\n"
     ]
    },
    {
     "name": "stderr",
     "output_type": "stream",
     "text": [
      "Epochs completed:   2%| ▏          3/200 [00:02]"
     ]
    },
    {
     "name": "stdout",
     "output_type": "stream",
     "text": [
      "\tcompleted  0  /  200 epochs\n"
     ]
    },
    {
     "name": "stderr",
     "output_type": "stream",
     "text": [
      "Epochs completed:  12%| █▏         23/200 [00:04]"
     ]
    },
    {
     "name": "stdout",
     "output_type": "stream",
     "text": [
      "\tcompleted  20  /  200 epochs\n"
     ]
    },
    {
     "name": "stderr",
     "output_type": "stream",
     "text": [
      "Epochs completed:  22%| ██▏        43/200 [00:05]"
     ]
    },
    {
     "name": "stdout",
     "output_type": "stream",
     "text": [
      "\tcompleted  40  /  200 epochs\n"
     ]
    },
    {
     "name": "stderr",
     "output_type": "stream",
     "text": [
      "Epochs completed:  32%| ███▏       63/200 [00:07]"
     ]
    },
    {
     "name": "stdout",
     "output_type": "stream",
     "text": [
      "\tcompleted  60  /  200 epochs\n"
     ]
    },
    {
     "name": "stderr",
     "output_type": "stream",
     "text": [
      "Epochs completed:  42%| ████▏      83/200 [00:08]"
     ]
    },
    {
     "name": "stdout",
     "output_type": "stream",
     "text": [
      "\tcompleted  80  /  200 epochs\n"
     ]
    },
    {
     "name": "stderr",
     "output_type": "stream",
     "text": [
      "Epochs completed:  52%| █████▏     103/200 [00:09]"
     ]
    },
    {
     "name": "stdout",
     "output_type": "stream",
     "text": [
      "\tcompleted  100  /  200 epochs\n"
     ]
    },
    {
     "name": "stderr",
     "output_type": "stream",
     "text": [
      "Epochs completed:  62%| ██████▏    123/200 [00:11]"
     ]
    },
    {
     "name": "stdout",
     "output_type": "stream",
     "text": [
      "\tcompleted  120  /  200 epochs\n"
     ]
    },
    {
     "name": "stderr",
     "output_type": "stream",
     "text": [
      "Epochs completed:  72%| ███████▏   143/200 [00:12]"
     ]
    },
    {
     "name": "stdout",
     "output_type": "stream",
     "text": [
      "\tcompleted  140  /  200 epochs\n"
     ]
    },
    {
     "name": "stderr",
     "output_type": "stream",
     "text": [
      "Epochs completed:  82%| ████████▏  163/200 [00:14]"
     ]
    },
    {
     "name": "stdout",
     "output_type": "stream",
     "text": [
      "\tcompleted  160  /  200 epochs\n"
     ]
    },
    {
     "name": "stderr",
     "output_type": "stream",
     "text": [
      "Epochs completed:  92%| █████████▏ 183/200 [00:15]"
     ]
    },
    {
     "name": "stdout",
     "output_type": "stream",
     "text": [
      "\tcompleted  180  /  200 epochs\n"
     ]
    },
    {
     "name": "stderr",
     "output_type": "stream",
     "text": [
      "Epochs completed: 100%| ██████████ 200/200 [00:17]\n"
     ]
    },
    {
     "name": "stdout",
     "output_type": "stream",
     "text": [
      "Wed Oct 22 20:44:45 2025 Finished embedding\n"
     ]
    }
   ],
   "source": [
    "pca_visualization = fobrain.compute_visualization(train_val_dataset, method=\"pca\", embeddings=\"embedding\", num_dims=2, brain_key=\"pca_visualization_lenet_embeds\")\n",
    "pca_visualization = fobrain.compute_visualization(train_val_dataset, method=\"umap\", embeddings=\"embedding\", num_dims=2, brain_key=\"umap_visualization_lenet_embeds\")\n",
    "session.view = train_val_dataset.view()\n",
    "session.refresh()"
   ]
  },
  {
   "cell_type": "code",
   "execution_count": 18,
   "metadata": {},
   "outputs": [
    {
     "name": "stdout",
     "output_type": "stream",
     "text": [
      "Computing mistakenness...\n"
     ]
    },
    {
     "name": "stdout",
     "output_type": "stream",
     "text": [
      " 100% |█████████████| 60000/60000 [1.4m elapsed, 0s remaining, 694.0 samples/s]      \n",
      "Mistakenness computation complete\n",
      "Computing hardness...\n",
      " 100% |█████████████| 60000/60000 [1.5m elapsed, 0s remaining, 700.3 samples/s]      \n",
      "Hardness computation complete\n"
     ]
    }
   ],
   "source": [
    "fobrain.compute_mistakenness(train_val_dataset, pred_field=\"lenet\", label_field=\"ground_truth\")\n",
    "fobrain.compute_hardness(train_val_dataset, label_field=\"lenet\")\n",
    "session.view = train_val_dataset.view()\n",
    "session.refresh()"
   ]
  },
  {
   "cell_type": "code",
   "execution_count": 19,
   "metadata": {},
   "outputs": [
    {
     "name": "stderr",
     "output_type": "stream",
     "text": [
      "Tagging Problematic Samples: 100%|██████████| 60000/60000 [00:57<00:00, 1046.46it/s]\n"
     ]
    }
   ],
   "source": [
    "highly_mistaken_quantile = train_val_dataset.quantiles(\"mistakenness\", [0.99])[0]\n",
    "highly_mistaken = train_val_dataset.match(F(\"mistakenness\") > highly_mistaken_quantile)\n",
    "highly_hard_quantile = train_val_dataset.quantiles(\"hardness\", [0.99])[0]\n",
    "highly_hard = train_val_dataset.match(F(\"hardness\") > highly_hard_quantile)\n",
    "missclassed_samples = train_val_dataset.match(F(\"ground_truth.label\") != F(\"lenet.label\"))\n",
    "\n",
    "mistaken_or_hard = highly_mistaken.select(set(highly_mistaken.values(\"id\")).union(set(highly_hard.values(\"id\"))))\n",
    "histaken_or_hard_and_missclassed = mistaken_or_hard.select(set(mistaken_or_hard.values(\"id\")).intersection(set(missclassed_samples.values(\"id\")))) \n",
    "problematic_samples = histaken_or_hard_and_missclassed.sort_by(\"hardness\", reverse=True)\n",
    "problematic_ids = problematic_samples.values(\"id\")\n",
    "for sample in tqdm(train_val_dataset, desc=\"Tagging Problematic Samples\"):\n",
    "    sample[\"ground_truth.label\"] = \"problematic \" + sample[\"ground_truth.label\"] if sample.id in problematic_ids else sample[\"ground_truth.label\"]\n",
    "    sample.save()\n",
    "train_val_dataset.save()\n",
    "session.view = problematic_samples.view()\n",
    "session.refresh()"
   ]
  },
  {
   "cell_type": "code",
   "execution_count": 20,
   "metadata": {},
   "outputs": [
    {
     "name": "stdout",
     "output_type": "stream",
     "text": [
      "Directory '../data/mnist-curated' already exists; export will be merged with existing files\n",
      " 100% |█████████████| 60000/60000 [53.9s elapsed, 0s remaining, 1.1K samples/s]      \n"
     ]
    }
   ],
   "source": [
    "export_dir = \"../data/mnist-curated\"\n",
    "\n",
    "train_val_dataset.export(\n",
    "    export_dir=export_dir,\n",
    "    dataset_type=fo.types.ImageClassificationDirectoryTree,\n",
    "    label_field=\"ground_truth\"\n",
    ")"
   ]
  },
  {
   "cell_type": "code",
   "execution_count": 21,
   "metadata": {},
   "outputs": [],
   "source": [
    "export_dir = Path(\"../data/mnist-curated\")\n",
    "overview_data = [{\"file\": str(p).lstrip(\"../data/mnist-curated/\"), \"label\": str(p.parent.name)} for p in export_dir.rglob(\"*\") if p.suffix.lower() in {\".jpg\", \".jpeg\"}]\n",
    "overview_df = pd.DataFrame(overview_data)\n",
    "overview_df.to_csv(export_dir / \"overview.csv\", index=False)"
   ]
  }
 ],
 "metadata": {
  "colab": {
   "provenance": []
  },
  "kernelspec": {
   "display_name": "acv-_NshFyup-py3.12",
   "language": "python",
   "name": "python3"
  },
  "language_info": {
   "codemirror_mode": {
    "name": "ipython",
    "version": 3
   },
   "file_extension": ".py",
   "mimetype": "text/x-python",
   "name": "python",
   "nbconvert_exporter": "python",
   "pygments_lexer": "ipython3",
   "version": "3.12.3"
  }
 },
 "nbformat": 4,
 "nbformat_minor": 0
}
